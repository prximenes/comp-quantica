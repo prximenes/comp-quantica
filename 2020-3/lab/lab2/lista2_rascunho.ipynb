{
 "metadata": {
  "language_info": {
   "codemirror_mode": {
    "name": "ipython",
    "version": 3
   },
   "file_extension": ".py",
   "mimetype": "text/x-python",
   "name": "python",
   "nbconvert_exporter": "python",
   "pygments_lexer": "ipython3",
   "version": "3.8.5-final"
  },
  "orig_nbformat": 2,
  "kernelspec": {
   "name": "python38564bitquantumconda982c1fb4482d4ef491a1f644947d3c3d",
   "display_name": "Python 3.8.5 64-bit ('quantum': conda)",
   "metadata": {
    "interpreter": {
     "hash": "f8f1b8905fe8ae13885eb61176e4b43c2be21bb2fb15fea5bd87d7877860ac91"
    }
   }
  }
 },
 "nbformat": 4,
 "nbformat_minor": 2,
 "cells": [
  {
   "cell_type": "code",
   "execution_count": 2,
   "metadata": {},
   "outputs": [],
   "source": [
    "import qiskit\n",
    "\n",
    "import numpy as np\n",
    "from qiskit.visualization import plot_state_qsphere, plot_bloch_multivector\n",
    "\n",
    "def Rz(theta):\n",
    "    return np.array([[np.e**(-1j*theta/2), 0],[0, np.e**(1j*theta/2)]])\n",
    "\n",
    "def Ry(theta):\n",
    "    return np.array([[np.cos(theta/2), -np.sin(theta/2)],[np.sin(theta/2), np.cos(theta/2)]])"
   ]
  },
  {
   "source": [
    "1. Dado uma matriz unitária V, determine os números reais `alpha`, `beta`, `gamma` e `delta` de modo que\n",
    "```python\n",
    "V = e^{1j*alpha} * Rz(beta) @ Ry(gamma) @ Rz(delta).\n",
    "```"
   ],
   "cell_type": "markdown",
   "metadata": {}
  },
  {
   "cell_type": "code",
   "execution_count": 48,
   "metadata": {},
   "outputs": [],
   "source": [
    "U = np.array([[(1+1j)/2, (1-1j)/2], [(1-1j)/2, (1+1j)/2]])\n",
    "#U = [[(1)/np.sqrt(2), (1)/np.sqrt(2)],[(1)/np.sqrt(2), -1*(1)/np.sqrt(2)]]\n",
    "# -----------------\n",
    "# Seu código aqui\n",
    "\n",
    "x00 = np.angle(U[0][0])\n",
    "x01 = np.angle(U[0][1])\n",
    "x10 = np.angle(U[1][0])\n",
    "x11 = np.angle(U[1][1])\n",
    "\n",
    "A = np.array([[1, -0.5, -0.5], [1, -0.5, 0.5], [1, 0.5, -0.5]])\n",
    "B = np.array([x00, x01 + np.pi, x10])\n",
    "X = np.linalg.inv(A).dot(B)    \n",
    "\n",
    "alpha = X[0]\n",
    "beta = X[1]\n",
    "gamma = np.arccos(np.abs(U[0][0]))*2\n",
    "delta = X[2]"
   ]
  },
  {
   "cell_type": "code",
   "execution_count": 49,
   "metadata": {
    "tags": []
   },
   "outputs": [
    {
     "output_type": "stream",
     "name": "stdout",
     "text": "[[0.5+0.5j 0.5-0.5j]\n [0.5-0.5j 0.5+0.5j]]\n"
    }
   ],
   "source": [
    "print(np.e**(alpha*1j) * Rz(beta) @ Ry(gamma) @ Rz(delta))"
   ]
  },
  {
   "source": [
    "2. Dada uma matriz unitária V, construa um circuito para o operador V controlado. Nesta questão você pode utilizar apenas operadores sobre um qubit e cx."
   ],
   "cell_type": "markdown",
   "metadata": {}
  },
  {
   "cell_type": "code",
   "execution_count": 13,
   "metadata": {},
   "outputs": [],
   "source": [
    "from qiskit import Aer, execute, ClassicalRegister, QuantumRegister, QuantumCircuit\n",
    "\n",
    "V1 = np.array([[(1+1j)/2, (1-1j)/2], [(1-1j)/2, (1+1j)/2]])\n",
    "V2 = [[(1)/np.sqrt(2), (1)/np.sqrt(2)],[(1)/np.sqrt(2), -1*(1)/np.sqrt(2)]]\n",
    "# -----------------\n",
    "# Seu código aqui\n",
    "def q2(V):\n",
    "    #Decomponsição de V\n",
    "\n",
    "    x00 = np.angle(V[0][0])\n",
    "    x01 = np.angle(V[0][1])\n",
    "    x10 = np.angle(V[1][0])\n",
    "    x11 = np.angle(V[1][1])\n",
    "\n",
    "    A = np.array([[1, -0.5, -0.5], [1, -0.5, 0.5], [1, 0.5, -0.5]])\n",
    "    B = np.array([x00, x01 + np.pi, x10])\n",
    "    X = np.linalg.inv(A).dot(B)    \n",
    "\n",
    "    alpha = X[0]\n",
    "    beta = X[1]\n",
    "    gamma = np.arccos(np.abs(V[0][0]))*2\n",
    "    delta = X[2]\n",
    "\n",
    "    #-------Matrizes------#\n",
    "    A = Rz(beta)*Ry(gamma/2)\n",
    "    B = Ry(-1*gamma/2)*Rz(-1*(delta + beta)/2)\n",
    "    C = Rz((delta-beta)/2)\n",
    "\n",
    "    #-------Circuito------#\n",
    "    circuito = qiskit.QuantumCircuit(2)\n",
    "    #C\n",
    "    circuito.rz((delta-beta)/2, 1)\n",
    "    #cx\n",
    "    circuito.cx(0,1)\n",
    "    #B\n",
    "    circuito.rz(-1*(delta + beta)/2, 1)\n",
    "    circuito.ry(-1*gamma/2, 1)\n",
    "    #cx\n",
    "    circuito.cx(0,1)\n",
    "    #A\n",
    "    circuito.ry(gamma/2, 1)\n",
    "    circuito.rz(beta, 1)\n",
    "    circuito.draw()\n",
    "    #Operador [[1,0],[0,e**(1j*alpha)]] -> U3=0,0,alpha\n",
    "    circuito.u3(theta=0, phi=0, lam=alpha, qubit=0)\n",
    "    return circuito"
   ]
  },
  {
   "cell_type": "code",
   "execution_count": 14,
   "metadata": {
    "tags": []
   },
   "outputs": [
    {
     "output_type": "execute_result",
     "data": {
      "text/plain": "                                                     ┌──────────────┐         \nq_0: ──────────────■──────────────────────────────■──┤ U3(0,0,pi/2) ├─────────\n     ┌──────────┐┌─┴─┐┌───────────┐┌───────────┐┌─┴─┐└─┬──────────┬─┘┌───────┐\nq_1: ┤ RZ(pi/2) ├┤ X ├┤ RZ(-pi/2) ├┤ RY(-pi/4) ├┤ X ├──┤ RY(pi/4) ├──┤ RZ(0) ├\n     └──────────┘└───┘└───────────┘└───────────┘└───┘  └──────────┘  └───────┘",
      "text/html": "<pre style=\"word-wrap: normal;white-space: pre;background: #fff0;line-height: 1.1;font-family: &quot;Courier New&quot;,Courier,monospace\">                                                     ┌──────────────┐         \nq_0: ──────────────■──────────────────────────────■──┤ U3(0,0,pi/2) ├─────────\n     ┌──────────┐┌─┴─┐┌───────────┐┌───────────┐┌─┴─┐└─┬──────────┬─┘┌───────┐\nq_1: ┤ RZ(pi/2) ├┤ X ├┤ RZ(-pi/2) ├┤ RY(-pi/4) ├┤ X ├──┤ RY(pi/4) ├──┤ RZ(0) ├\n     └──────────┘└───┘└───────────┘└───────────┘└───┘  └──────────┘  └───────┘</pre>"
     },
     "metadata": {},
     "execution_count": 14
    }
   ],
   "source": [
    "circuito = q2(V2)\n",
    "circuito.draw()"
   ]
  },
  {
   "source": [
    "#https://qiskit.org/documentation/tutorials/circuits/3_summary_of_quantum_operations.html\n",
    "\n",
    "3. Utilizando apenas operadores sobre um qubit e cx, construa um circuito quântico que tenha a ação do operador Toffoli.\n"
   ],
   "cell_type": "markdown",
   "metadata": {}
  },
  {
   "cell_type": "code",
   "execution_count": 27,
   "metadata": {},
   "outputs": [],
   "source": [
    "def toffoli():\n",
    "    '''\n",
    "    Lab2 - questão 3\n",
    "    :param n: número de controles\n",
    "    :param V:\n",
    "    :return: circuito quântico com n+1 qubits + n-1 qubits auxiliares\n",
    "            que aplica o operador nCV.\n",
    "    '''\n",
    "    controles = qiskit.QuantumRegister(2)\n",
    "    alvo = qiskit.QuantumRegister(1)\n",
    "\n",
    "    circuito = qiskit.QuantumCircuit(controles, alvo)\n",
    "\n",
    "    #------------------------\n",
    "    # Seu código aqui\n",
    "    # ------------------------\n",
    "    '''\n",
    "    circuito.cu1(np.pi, controles[1], alvo)\n",
    "    circuito.cx(controles[0],controles[1])\n",
    "    circuito.cu1(-np.pi, controles[1], alvo)\n",
    "    circuito.cx(controles[0],controles[1])\n",
    "    circuito.cu1(np.pi,controles[0],alvo)\n",
    "    '''\n",
    "    circuito.ccx(controles[0], controles[1], alvo)\n",
    "    return circuito"
   ]
  },
  {
   "cell_type": "code",
   "execution_count": 41,
   "metadata": {},
   "outputs": [
    {
     "output_type": "execute_result",
     "data": {
      "text/plain": "                                 \nq19_0: ───────■──────────■───■───\n            ┌─┴─┐      ┌─┴─┐ │   \nq19_1: ─■───┤ X ├─■────┤ X ├─┼───\n        │pi └───┘ │-pi └───┘ │pi \nq20_0: ─■─────────■──────────■───\n                                 ",
      "text/html": "<pre style=\"word-wrap: normal;white-space: pre;background: #fff0;line-height: 1.1;font-family: &quot;Courier New&quot;,Courier,monospace\">                                 \nq19_0: ───────■──────────■───■───\n            ┌─┴─┐      ┌─┴─┐ │   \nq19_1: ─■───┤ X ├─■────┤ X ├─┼───\n        │pi └───┘ │-pi └───┘ │pi \nq20_0: ─■─────────■──────────■───\n                                 </pre>"
     },
     "metadata": {},
     "execution_count": 41
    }
   ],
   "source": [
    "circuito = toffoli()\n",
    "circuito.draw()"
   ]
  },
  {
   "source": [
    "4. Dado um vetor real com norma 1 e dimensão 8, construa um circuito que inicialize um estado quântico com amplitudes correspondendo às coordenadas do vetor.\n"
   ],
   "cell_type": "markdown",
   "metadata": {}
  },
  {
   "cell_type": "code",
   "execution_count": 138,
   "metadata": {},
   "outputs": [],
   "source": [
    "v8D = np.array([np.sqrt(0.03),np.sqrt(0.07),np.sqrt(0.15),np.sqrt(0.05),np.sqrt(0.1),np.sqrt(0.3),np.sqrt(0.2),np.sqrt(0.1)])\n",
    "\n",
    "def inicializa_3qubits(vetor_dimensao8):\n",
    "    '''\n",
    "    Lab2 - questão 4\n",
    "    '''\n",
    "    arrays = np.split(vetor_dimensao8, 4)\n",
    "\n",
    "    #Arvore de Estados\n",
    "    aux_l = np.empty((4))\n",
    "\n",
    "    i=0\n",
    "    for array in arrays:\n",
    "        aux_l[i] = np.linalg.norm(array)\n",
    "        i+= 1\n",
    "\n",
    "    i=0\n",
    "    s_aux_l = np.empty((2))\n",
    "    s_arrays = np.split(aux_l, 2)\n",
    "    for s_array in s_arrays: \n",
    "        s_aux_l[i] = np.linalg.norm(s_array)\n",
    "        i+=1\n",
    "\n",
    "    t_aux_l = np.linalg.norm(s_aux_l)\n",
    "\n",
    "    #Definindo os alphas\n",
    "    alpha0 = 2*np.arcsin(np.sqrt(s_aux_l[1])/np.sqrt(t_aux_l))\n",
    "\n",
    "    alpha1 = 2*np.arcsin(np.sqrt(aux_l[1])/np.sqrt(s_aux_l[0]))\n",
    "    alpha2 = 2*np.arcsin(np.sqrt(aux_l[3])/np.sqrt(s_aux_l[1]))\n",
    "\n",
    "    alpha3 = 2*np.arcsin(np.sqrt(vetor_dimensao8[1])/np.sqrt(aux_l[0]))\n",
    "    alpha4 = 2*np.arcsin(np.sqrt(vetor_dimensao8[3])/np.sqrt(aux_l[1]))\n",
    "    alpha5 = 2*np.arcsin(np.sqrt(vetor_dimensao8[5])/np.sqrt(aux_l[2]))\n",
    "    alpha6 = 2*np.arcsin(np.sqrt(vetor_dimensao8[7])/np.sqrt(aux_l[3]))\n",
    "\n",
    "    #Circuito\n",
    "    \n",
    "    qr = qiskit.QuantumRegister(3, 'q')\n",
    "    circuito = qiskit.QuantumCircuit(qr)\n",
    "    \n",
    "    # ------------------------\n",
    "    # Seu código aqui\n",
    "    # ------------------------\n",
    "\n",
    "    circuito.ry(alpha0,qr[0])\n",
    "    \n",
    "    circuito.x(qr[0])\n",
    "    circuito.cry(alpha1,qr[0],qr[1]) #if bit[0] = 0 faz o controle no bit[1]\n",
    "    \n",
    "    circuito.x(qr[0])\n",
    "    circuito.cry(alpha2,qr[0],qr[1]) #if bit[0] = 1 faz o controle no bit[1]\n",
    "    \n",
    "    circuito.x(qr[1])\n",
    "    circuito.x(qr[0])\n",
    "    circuito.mcry(theta=alpha3, q_controls=qr[0:2], q_target=qr[2], mode='noancilla',q_ancillae=None) #multi control bit; if bit[0] e bit[1] ambos são 0, entao faz o ry no bit 2\n",
    "    \n",
    "    circuito.x(qr[1])\n",
    "    circuito.mcry(theta=alpha4, q_controls=qr[0:2], q_target=qr[2], mode='noancilla',q_ancillae=None) #multi control bit; if bit[0]=0 e bit[1]=1 entao faz o ry no bit 2\n",
    "\n",
    "    circuito.x(qr[0])\n",
    "    circuito.x(qr[1])\n",
    "    circuito.mcry(theta=alpha5, q_controls=qr[0:2], q_target=qr[2], mode='noancilla',q_ancillae=None) #multi control bit; if bit[0]=1 e bit[1]=0 entao faz o ry no bit 2\n",
    "\n",
    "    circuito.x(qr[1])\n",
    "    circuito.mcry(theta=alpha6, q_controls=qr[0:2], q_target=qr[2], mode='noancilla',q_ancillae=None) #multi control bit; if bit[0]=1 e bit[1]=1 entao faz o ry no bit 2\n",
    "\n",
    "    return circuito"
   ]
  },
  {
   "cell_type": "code",
   "execution_count": 139,
   "metadata": {},
   "outputs": [
    {
     "output_type": "execute_result",
     "data": {
      "text/plain": "     ┌────────────┐┌───┐              ┌───┐              ┌───┐»\nq_0: ┤ RY(2.3095) ├┤ X ├──────■───────┤ X ├──────■───────┤ X ├»\n     └────────────┘└───┘┌─────┴──────┐└───┘┌─────┴──────┐├───┤»\nq_1: ───────────────────┤ RY(2.2562) ├─────┤ RY(1.8853) ├┤ X ├»\n                        └────────────┘     └────────────┘└───┘»\nq_2: ─────────────────────────────────────────────────────────»\n                                                              »\n«                       ┌───┐                   ┌───┐                       »\n«q_0: ──────────────────┤ X ├─────────■─────────┤ X ├────────■──────────────»\n«                       └─┬─┘         │         └─┬─┘        │         ┌───┐»\n«q_1: ────────■───────────■───────────┼───────────■──────────┼─────────┤ X ├»\n«     ┌───────┴────────┐     ┌────────┴────────┐     ┌───────┴────────┐└───┘»\n«q_2: ┤ U3(1.1547,0,0) ├─────┤ U3(-1.1547,0,0) ├─────┤ U3(1.1547,0,0) ├─────»\n«     └────────────────┘     └─────────────────┘     └────────────────┘     »\n«                     ┌───┐                 ┌───┐                ┌───┐»\n«q_0: ────────────────┤ X ├────────■────────┤ X ├───────■────────┤ X ├»\n«                     └─┬─┘        │        └─┬─┘       │        ├───┤»\n«q_1: ───────■──────────■──────────┼──────────■─────────┼────────┤ X ├»\n«     ┌──────┴───────┐     ┌───────┴───────┐     ┌──────┴───────┐└───┘»\n«q_2: ┤ U3(pi/4,0,0) ├─────┤ U3(-pi/4,0,0) ├─────┤ U3(pi/4,0,0) ├─────»\n«     └──────────────┘     └───────────────┘     └──────────────┘     »\n«                       ┌───┐                   ┌───┐                       »\n«q_0: ──────────────────┤ X ├─────────■─────────┤ X ├────────■──────────────»\n«                       └─┬─┘         │         └─┬─┘        │         ┌───┐»\n«q_1: ────────■───────────■───────────┼───────────■──────────┼─────────┤ X ├»\n«     ┌───────┴────────┐     ┌────────┴────────┐     ┌───────┴────────┐└───┘»\n«q_2: ┤ U3(1.1961,0,0) ├─────┤ U3(-1.1961,0,0) ├─────┤ U3(1.1961,0,0) ├─────»\n«     └────────────────┘     └─────────────────┘     └────────────────┘     »\n«                        ┌───┐                    ┌───┐                   \n«q_0: ───────────────────┤ X ├─────────■──────────┤ X ├─────────■─────────\n«                        └─┬─┘         │          └─┬─┘         │         \n«q_1: ─────────■───────────■───────────┼────────────■───────────┼─────────\n«     ┌────────┴────────┐     ┌────────┴─────────┐     ┌────────┴────────┐\n«q_2: ┤ U3(0.86306,0,0) ├─────┤ U3(-0.86306,0,0) ├─────┤ U3(0.86306,0,0) ├\n«     └─────────────────┘     └──────────────────┘     └─────────────────┘",
      "text/html": "<pre style=\"word-wrap: normal;white-space: pre;background: #fff0;line-height: 1.1;font-family: &quot;Courier New&quot;,Courier,monospace\">     ┌────────────┐┌───┐              ┌───┐              ┌───┐»\nq_0: ┤ RY(2.3095) ├┤ X ├──────■───────┤ X ├──────■───────┤ X ├»\n     └────────────┘└───┘┌─────┴──────┐└───┘┌─────┴──────┐├───┤»\nq_1: ───────────────────┤ RY(2.2562) ├─────┤ RY(1.8853) ├┤ X ├»\n                        └────────────┘     └────────────┘└───┘»\nq_2: ─────────────────────────────────────────────────────────»\n                                                              »\n«                       ┌───┐                   ┌───┐                       »\n«q_0: ──────────────────┤ X ├─────────■─────────┤ X ├────────■──────────────»\n«                       └─┬─┘         │         └─┬─┘        │         ┌───┐»\n«q_1: ────────■───────────■───────────┼───────────■──────────┼─────────┤ X ├»\n«     ┌───────┴────────┐     ┌────────┴────────┐     ┌───────┴────────┐└───┘»\n«q_2: ┤ U3(1.1547,0,0) ├─────┤ U3(-1.1547,0,0) ├─────┤ U3(1.1547,0,0) ├─────»\n«     └────────────────┘     └─────────────────┘     └────────────────┘     »\n«                     ┌───┐                 ┌───┐                ┌───┐»\n«q_0: ────────────────┤ X ├────────■────────┤ X ├───────■────────┤ X ├»\n«                     └─┬─┘        │        └─┬─┘       │        ├───┤»\n«q_1: ───────■──────────■──────────┼──────────■─────────┼────────┤ X ├»\n«     ┌──────┴───────┐     ┌───────┴───────┐     ┌──────┴───────┐└───┘»\n«q_2: ┤ U3(pi/4,0,0) ├─────┤ U3(-pi/4,0,0) ├─────┤ U3(pi/4,0,0) ├─────»\n«     └──────────────┘     └───────────────┘     └──────────────┘     »\n«                       ┌───┐                   ┌───┐                       »\n«q_0: ──────────────────┤ X ├─────────■─────────┤ X ├────────■──────────────»\n«                       └─┬─┘         │         └─┬─┘        │         ┌───┐»\n«q_1: ────────■───────────■───────────┼───────────■──────────┼─────────┤ X ├»\n«     ┌───────┴────────┐     ┌────────┴────────┐     ┌───────┴────────┐└───┘»\n«q_2: ┤ U3(1.1961,0,0) ├─────┤ U3(-1.1961,0,0) ├─────┤ U3(1.1961,0,0) ├─────»\n«     └────────────────┘     └─────────────────┘     └────────────────┘     »\n«                        ┌───┐                    ┌───┐                   \n«q_0: ───────────────────┤ X ├─────────■──────────┤ X ├─────────■─────────\n«                        └─┬─┘         │          └─┬─┘         │         \n«q_1: ─────────■───────────■───────────┼────────────■───────────┼─────────\n«     ┌────────┴────────┐     ┌────────┴─────────┐     ┌────────┴────────┐\n«q_2: ┤ U3(0.86306,0,0) ├─────┤ U3(-0.86306,0,0) ├─────┤ U3(0.86306,0,0) ├\n«     └─────────────────┘     └──────────────────┘     └─────────────────┘</pre>"
     },
     "metadata": {},
     "execution_count": 139
    }
   ],
   "source": [
    "circuito = inicializa_3qubits(v8D)\n",
    "circuito.draw()"
   ]
  },
  {
   "cell_type": "code",
   "execution_count": null,
   "metadata": {},
   "outputs": [],
   "source": []
  },
  {
   "cell_type": "code",
   "execution_count": null,
   "metadata": {},
   "outputs": [],
   "source": []
  }
 ]
}